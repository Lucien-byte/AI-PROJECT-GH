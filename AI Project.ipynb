{
 "cells": [
  {
   "cell_type": "code",
   "execution_count": 1,
   "id": "056e551d",
   "metadata": {},
   "outputs": [],
   "source": [
    "import turtle\n",
    "import random\n",
    "import tkinter as tk\n",
    "from turtle import RawTurtle, TurtleScreen\n",
    "\n",
    "# Set up the tkinter window\n",
    "root = tk.Tk()\n",
    "root.title(\"Turtle Graphics in Jupyter\")\n",
    "canvas = tk.Canvas(root, width=600, height=600)\n",
    "canvas.pack()\n",
    "\n",
    "# Set up the TurtleScreen and turtle\n",
    "screen = TurtleScreen(canvas)\n",
    "screen.bgcolor(\"black\")\n",
    "spiral_turtle = RawTurtle(screen)\n",
    "spiral_turtle.speed(0)  # Fastest drawing speed\n",
    "\n",
    "# List of colors to choose from\n",
    "colors = [\"red\", \"blue\", \"green\", \"yellow\", \"purple\", \"cyan\", \"orange\"]\n",
    "\n",
    "# Draw a colorful spiral\n",
    "for i in range(100):\n",
    "    spiral_turtle.color(random.choice(colors))  # Random color for each line\n",
    "    spiral_turtle.forward(10 + i * 2)           # Gradually increasing line length\n",
    "    spiral_turtle.right(45 + i % 10)            # Slightly altering angle each step\n",
    "\n",
    "# Hide the turtle and display the result\n",
    "spiral_turtle.hideturtle()\n",
    "root.mainloop()\n"
   ]
  },
  {
   "cell_type": "code",
   "execution_count": 21,
   "id": "44cc140c",
   "metadata": {},
   "outputs": [
    {
     "name": "stdout",
     "output_type": "stream",
     "text": [
      "The bot decided to go left.\n"
     ]
    }
   ],
   "source": [
    "import random\n",
    "\n",
    "def decision_bot():\n",
    "    choices = [\"left\", \"right\"]\n",
    "    decision = random.choice(choices)\n",
    "    return f\"The bot decided to go {decision}.\"\n",
    "\n",
    "# Run the bot\n",
    "print(decision_bot())\n",
    "\n"
   ]
  },
  {
   "cell_type": "code",
   "execution_count": 36,
   "id": "fbc6f7c7",
   "metadata": {},
   "outputs": [
    {
     "name": "stdout",
     "output_type": "stream",
     "text": [
      "Processing: [LLLLLLLLLLLLLLLLLLLLLLLLLLLLLLLLLLLLLLLLLLLLLLLLLL] 100%\n",
      "Done!\n"
     ]
    }
   ],
   "source": [
    "import time\n",
    "import sys\n",
    "\n",
    "def progress_bar():\n",
    "    for i in range(101):\n",
    "        sys.stdout.write(\"\\rProcessing: [\" + \"L\" * (i // 2) + \" \" * (50 - i // 2) + \"] \" + str(i) + \"%\")\n",
    "        sys.stdout.flush()\n",
    "        time.sleep(0.05)  # Adjust this to control the speed of progress\n",
    "    print(\"\\nDone!\")\n",
    "\n",
    "# Run the progress bar\n",
    "progress_bar()\n",
    "\n"
   ]
  },
  {
   "cell_type": "code",
   "execution_count": 3,
   "id": "f4352dba",
   "metadata": {},
   "outputs": [
    {
     "name": "stdout",
     "output_type": "stream",
     "text": [
      "Think of a number between 1 and 100 and I'll try to guess it!\n",
      "My guess is 50.\n"
     ]
    },
    {
     "ename": "KeyboardInterrupt",
     "evalue": "Interrupted by user",
     "output_type": "error",
     "traceback": [
      "\u001b[1;31m---------------------------------------------------------------------------\u001b[0m",
      "\u001b[1;31mKeyboardInterrupt\u001b[0m                         Traceback (most recent call last)",
      "Cell \u001b[1;32mIn[3], line 23\u001b[0m\n\u001b[0;32m     20\u001b[0m             \u001b[38;5;28mprint\u001b[39m(\u001b[38;5;124m\"\u001b[39m\u001b[38;5;124mInvalid input. Please enter \u001b[39m\u001b[38;5;124m'\u001b[39m\u001b[38;5;124mh\u001b[39m\u001b[38;5;124m'\u001b[39m\u001b[38;5;124m, \u001b[39m\u001b[38;5;124m'\u001b[39m\u001b[38;5;124ml\u001b[39m\u001b[38;5;124m'\u001b[39m\u001b[38;5;124m, or \u001b[39m\u001b[38;5;124m'\u001b[39m\u001b[38;5;124mc\u001b[39m\u001b[38;5;124m'\u001b[39m\u001b[38;5;124m.\u001b[39m\u001b[38;5;124m\"\u001b[39m)\n\u001b[0;32m     22\u001b[0m \u001b[38;5;66;03m# Run the AI Guessing Game\u001b[39;00m\n\u001b[1;32m---> 23\u001b[0m ai_guess()\n",
      "Cell \u001b[1;32mIn[3], line 10\u001b[0m, in \u001b[0;36mai_guess\u001b[1;34m()\u001b[0m\n\u001b[0;32m      8\u001b[0m guesses \u001b[38;5;241m+\u001b[39m\u001b[38;5;241m=\u001b[39m \u001b[38;5;241m1\u001b[39m\n\u001b[0;32m      9\u001b[0m \u001b[38;5;28mprint\u001b[39m(\u001b[38;5;124mf\u001b[39m\u001b[38;5;124m\"\u001b[39m\u001b[38;5;124mMy guess is \u001b[39m\u001b[38;5;132;01m{\u001b[39;00mguess\u001b[38;5;132;01m}\u001b[39;00m\u001b[38;5;124m.\u001b[39m\u001b[38;5;124m\"\u001b[39m)\n\u001b[1;32m---> 10\u001b[0m response \u001b[38;5;241m=\u001b[39m \u001b[38;5;28minput\u001b[39m(\u001b[38;5;124m\"\u001b[39m\u001b[38;5;124mIs it too high (h), too low (l), or correct (c)? \u001b[39m\u001b[38;5;124m\"\u001b[39m)\u001b[38;5;241m.\u001b[39mlower()\n\u001b[0;32m     12\u001b[0m \u001b[38;5;28;01mif\u001b[39;00m response \u001b[38;5;241m==\u001b[39m \u001b[38;5;124m'\u001b[39m\u001b[38;5;124mc\u001b[39m\u001b[38;5;124m'\u001b[39m:\n\u001b[0;32m     13\u001b[0m     \u001b[38;5;28mprint\u001b[39m(\u001b[38;5;124mf\u001b[39m\u001b[38;5;124m\"\u001b[39m\u001b[38;5;124mYay! I guessed it in \u001b[39m\u001b[38;5;132;01m{\u001b[39;00mguesses\u001b[38;5;132;01m}\u001b[39;00m\u001b[38;5;124m tries!\u001b[39m\u001b[38;5;124m\"\u001b[39m)\n",
      "File \u001b[1;32m~\\anaconda3\\Lib\\site-packages\\ipykernel\\kernelbase.py:1262\u001b[0m, in \u001b[0;36mKernel.raw_input\u001b[1;34m(self, prompt)\u001b[0m\n\u001b[0;32m   1260\u001b[0m     msg \u001b[38;5;241m=\u001b[39m \u001b[38;5;124m\"\u001b[39m\u001b[38;5;124mraw_input was called, but this frontend does not support input requests.\u001b[39m\u001b[38;5;124m\"\u001b[39m\n\u001b[0;32m   1261\u001b[0m     \u001b[38;5;28;01mraise\u001b[39;00m StdinNotImplementedError(msg)\n\u001b[1;32m-> 1262\u001b[0m \u001b[38;5;28;01mreturn\u001b[39;00m \u001b[38;5;28mself\u001b[39m\u001b[38;5;241m.\u001b[39m_input_request(\n\u001b[0;32m   1263\u001b[0m     \u001b[38;5;28mstr\u001b[39m(prompt),\n\u001b[0;32m   1264\u001b[0m     \u001b[38;5;28mself\u001b[39m\u001b[38;5;241m.\u001b[39m_parent_ident[\u001b[38;5;124m\"\u001b[39m\u001b[38;5;124mshell\u001b[39m\u001b[38;5;124m\"\u001b[39m],\n\u001b[0;32m   1265\u001b[0m     \u001b[38;5;28mself\u001b[39m\u001b[38;5;241m.\u001b[39mget_parent(\u001b[38;5;124m\"\u001b[39m\u001b[38;5;124mshell\u001b[39m\u001b[38;5;124m\"\u001b[39m),\n\u001b[0;32m   1266\u001b[0m     password\u001b[38;5;241m=\u001b[39m\u001b[38;5;28;01mFalse\u001b[39;00m,\n\u001b[0;32m   1267\u001b[0m )\n",
      "File \u001b[1;32m~\\anaconda3\\Lib\\site-packages\\ipykernel\\kernelbase.py:1305\u001b[0m, in \u001b[0;36mKernel._input_request\u001b[1;34m(self, prompt, ident, parent, password)\u001b[0m\n\u001b[0;32m   1302\u001b[0m \u001b[38;5;28;01mexcept\u001b[39;00m \u001b[38;5;167;01mKeyboardInterrupt\u001b[39;00m:\n\u001b[0;32m   1303\u001b[0m     \u001b[38;5;66;03m# re-raise KeyboardInterrupt, to truncate traceback\u001b[39;00m\n\u001b[0;32m   1304\u001b[0m     msg \u001b[38;5;241m=\u001b[39m \u001b[38;5;124m\"\u001b[39m\u001b[38;5;124mInterrupted by user\u001b[39m\u001b[38;5;124m\"\u001b[39m\n\u001b[1;32m-> 1305\u001b[0m     \u001b[38;5;28;01mraise\u001b[39;00m \u001b[38;5;167;01mKeyboardInterrupt\u001b[39;00m(msg) \u001b[38;5;28;01mfrom\u001b[39;00m \u001b[38;5;28;01mNone\u001b[39;00m\n\u001b[0;32m   1306\u001b[0m \u001b[38;5;28;01mexcept\u001b[39;00m \u001b[38;5;167;01mException\u001b[39;00m:\n\u001b[0;32m   1307\u001b[0m     \u001b[38;5;28mself\u001b[39m\u001b[38;5;241m.\u001b[39mlog\u001b[38;5;241m.\u001b[39mwarning(\u001b[38;5;124m\"\u001b[39m\u001b[38;5;124mInvalid Message:\u001b[39m\u001b[38;5;124m\"\u001b[39m, exc_info\u001b[38;5;241m=\u001b[39m\u001b[38;5;28;01mTrue\u001b[39;00m)\n",
      "\u001b[1;31mKeyboardInterrupt\u001b[0m: Interrupted by user"
     ]
    }
   ],
   "source": [
    "def ai_guess():\n",
    "    print(\"Think of a number between 1 and 100 and I'll try to guess it!\")\n",
    "    low, high = 1, 100\n",
    "    guesses = 0\n",
    "    \n",
    "    while True:\n",
    "        guess = (low + high) // 2\n",
    "        guesses += 1\n",
    "        print(f\"My guess is {guess}.\")\n",
    "        response = input(\"Is it too high (h), too low (l), or correct (c)? \").lower()\n",
    "        \n",
    "        if response == 'c':\n",
    "            print(f\"Yay! I guessed it in {guesses} tries!\")\n",
    "            break\n",
    "        elif response == 'h':\n",
    "            high = guess - 1  # Guess was too high, adjust the range\n",
    "        elif response == 'l':\n",
    "            low = guess + 1  # Guess was too low, adjust the range\n",
    "        else:\n",
    "            print(\"Invalid input. Please enter 'h', 'l', or 'c'.\")\n",
    "\n",
    "# Run the AI Guessing Game\n",
    "ai_guess()\n"
   ]
  },
  {
   "cell_type": "code",
   "execution_count": 18,
   "id": "0830570f",
   "metadata": {},
   "outputs": [
    {
     "ename": "ModuleNotFoundError",
     "evalue": "No module named 'pybox2d'",
     "output_type": "error",
     "traceback": [
      "\u001b[1;31m---------------------------------------------------------------------------\u001b[0m",
      "\u001b[1;31mModuleNotFoundError\u001b[0m                       Traceback (most recent call last)",
      "Cell \u001b[1;32mIn[18], line 3\u001b[0m\n\u001b[0;32m      1\u001b[0m \u001b[38;5;28;01mimport\u001b[39;00m \u001b[38;5;21;01mnumpy\u001b[39;00m \u001b[38;5;28;01mas\u001b[39;00m \u001b[38;5;21;01mnp\u001b[39;00m\n\u001b[0;32m      2\u001b[0m \u001b[38;5;28;01mimport\u001b[39;00m \u001b[38;5;21;01mipycanvas\u001b[39;00m\n\u001b[1;32m----> 3\u001b[0m \u001b[38;5;28;01mimport\u001b[39;00m \u001b[38;5;21;01mpybox2d\u001b[39;00m\n\u001b[0;32m      4\u001b[0m \u001b[38;5;28;01mfrom\u001b[39;00m \u001b[38;5;21;01mpybox2d\u001b[39;00m \u001b[38;5;28;01mimport\u001b[39;00m b2\n\u001b[0;32m      5\u001b[0m \u001b[38;5;28;01mimport\u001b[39;00m \u001b[38;5;21;01mtime\u001b[39;00m\n",
      "\u001b[1;31mModuleNotFoundError\u001b[0m: No module named 'pybox2d'"
     ]
    }
   ],
   "source": [
    "import numpy as np\n",
    "import ipycanvas\n",
    "import pybox2d\n",
    "from pybox2d import b2\n",
    "import time\n",
    "\n",
    "# Create the canvas for drawing\n",
    "canvas = ipycanvas.Canvas(width=800, height=400)\n",
    "canvas.fill_style = \"green\"\n",
    "canvas.fill_rect(0, 0, canvas.width, canvas.height)\n",
    "\n",
    "# Create the Box2D world\n",
    "world = b2.world(gravity=(0, 0))  # No gravity for billiard balls\n",
    "\n",
    "# Table (static body)\n",
    "table = world.CreateStaticBody(position=(0, 0))\n",
    "table.CreatePolygonFixture(box=(8, 4))  # Create a rectangular table\n",
    "\n",
    "# Cue ball (dynamic body)\n",
    "cue_ball = world.CreateDynamicBody(position=(-5, 0))\n",
    "cue_ball.CreateCircleFixture(radius=0.5)\n",
    "\n",
    "# Other pool balls (dynamic bodies)\n",
    "balls = []\n",
    "ball_positions = [\n",
    "    (-4, 2), (-4, -2),  # Two balls near the cue ball\n",
    "    (3, 2), (3, -2),    # Two balls to the right\n",
    "    (6, 0),             # A ball in the middle\n",
    "]\n",
    "\n",
    "for pos in ball_positions:\n",
    "    ball = world.CreateDynamicBody(position=pos)\n",
    "    ball.CreateCircleFixture(radius=0.5)\n",
    "    balls.append(ball)\n",
    "\n",
    "# Function to update the world and draw the table and balls\n",
    "def update_world():\n",
    "    world.Step(1 / 60, 10, 10)\n",
    "    \n",
    "    # Clear the canvas\n",
    "    canvas.clear()\n",
    "    canvas.fill_style = \"green\"\n",
    "    canvas.fill_rect(0, 0, canvas.width, canvas.height)\n",
    "    \n",
    "    # Draw the table (edges)\n",
    "    canvas.fill_style = \"brown\"\n",
    "    canvas.fill_rect(-400, -200, 800, 400)\n",
    "    \n",
    "    # Draw the balls\n",
    "    canvas.fill_style = \"white\"  # Cue ball is white\n",
    "    cue_ball_pos = cue_ball.position\n",
    "    canvas.fill_circle(cue_ball_pos.x * 100, cue_ball_pos.y * 100, 10)  # Scale the positions for display\n",
    "    \n",
    "    for ball in balls:\n",
    "        ball_pos = ball.position\n",
    "        canvas.fill_style = \"red\"  # You can change this to different colors for different balls\n",
    "        canvas.fill_circle(ball_pos.x * 100, ball_pos.y * 100, 10)\n",
    "\n",
    "# Launch the cue ball on mouse click\n",
    "def launch_ball(x, y):\n",
    "    # Set the velocity of the cue ball based on where you click\n",
    "    velocity = b2.vec2(x / 50, (400 - y) / 50)  # Scale the click position to a reasonable velocity\n",
    "    cue_ball.linearVelocity = velocity\n",
    "\n",
    "# Add mouse click event for launching the cue ball\n",
    "canvas.on_mouse_down(lambda x, y: launch_ball(x, y))\n",
    "\n",
    "# Game loop to update and draw the world every frame\n",
    "while True:\n",
    "    update_world()\n",
    "    time.sleep(1 / 60)  # Update at 60 frames per second\n"
   ]
  },
  {
   "cell_type": "code",
   "execution_count": null,
   "id": "fe9cc40b",
   "metadata": {},
   "outputs": [],
   "source": []
  },
  {
   "cell_type": "code",
   "execution_count": null,
   "id": "90ed1f2c",
   "metadata": {},
   "outputs": [],
   "source": []
  }
 ],
 "metadata": {
  "kernelspec": {
   "display_name": "Python 3 (ipykernel)",
   "language": "python",
   "name": "python3"
  },
  "language_info": {
   "codemirror_mode": {
    "name": "ipython",
    "version": 3
   },
   "file_extension": ".py",
   "mimetype": "text/x-python",
   "name": "python",
   "nbconvert_exporter": "python",
   "pygments_lexer": "ipython3",
   "version": "3.11.7"
  }
 },
 "nbformat": 4,
 "nbformat_minor": 5
}
